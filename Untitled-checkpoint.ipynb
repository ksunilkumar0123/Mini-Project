{
 "cells": [
  {
   "cell_type": "code",
   "execution_count": 6,
   "metadata": {},
   "outputs": [
    {
     "data": {
      "text/plain": [
       "(13779, 13779)"
      ]
     },
     "execution_count": 6,
     "metadata": {},
     "output_type": "execute_result"
    }
   ],
   "source": [
    "import os\n",
    "import glob\n",
    "\n",
    "base_dir = os.path.join('./cell_images')\n",
    "infected_dir = os.path.join(base_dir,'Parasitized')\n",
    "healthy_dir = os.path.join(base_dir,'Uninfected')\n",
    "\n",
    "infected_files = glob.glob(infected_dir+'/*.png')\n",
    "healthy_files = glob.glob(healthy_dir+'/*.png')\n",
    "len(infected_files), len(healthy_files)"
   ]
  },
  {
   "cell_type": "code",
   "execution_count": 7,
   "metadata": {},
   "outputs": [
    {
     "data": {
      "text/html": [
       "<div>\n",
       "<style scoped>\n",
       "    .dataframe tbody tr th:only-of-type {\n",
       "        vertical-align: middle;\n",
       "    }\n",
       "\n",
       "    .dataframe tbody tr th {\n",
       "        vertical-align: top;\n",
       "    }\n",
       "\n",
       "    .dataframe thead th {\n",
       "        text-align: right;\n",
       "    }\n",
       "</style>\n",
       "<table border=\"1\" class=\"dataframe\">\n",
       "  <thead>\n",
       "    <tr style=\"text-align: right;\">\n",
       "      <th></th>\n",
       "      <th>filename</th>\n",
       "      <th>label</th>\n",
       "    </tr>\n",
       "  </thead>\n",
       "  <tbody>\n",
       "    <tr>\n",
       "      <th>0</th>\n",
       "      <td>./cell_images\\Parasitized\\C130P91ThinF_IMG_201...</td>\n",
       "      <td>malaria</td>\n",
       "    </tr>\n",
       "    <tr>\n",
       "      <th>1</th>\n",
       "      <td>./cell_images\\Parasitized\\C188P149ThinF_IMG_20...</td>\n",
       "      <td>malaria</td>\n",
       "    </tr>\n",
       "    <tr>\n",
       "      <th>2</th>\n",
       "      <td>./cell_images\\Uninfected\\C173P134NThinF_IMG_20...</td>\n",
       "      <td>healthy</td>\n",
       "    </tr>\n",
       "    <tr>\n",
       "      <th>3</th>\n",
       "      <td>./cell_images\\Uninfected\\C78P39ThinF_IMG_20150...</td>\n",
       "      <td>healthy</td>\n",
       "    </tr>\n",
       "    <tr>\n",
       "      <th>4</th>\n",
       "      <td>./cell_images\\Uninfected\\C107P68ThinF_IMG_2015...</td>\n",
       "      <td>healthy</td>\n",
       "    </tr>\n",
       "  </tbody>\n",
       "</table>\n",
       "</div>"
      ],
      "text/plain": [
       "                                            filename    label\n",
       "0  ./cell_images\\Parasitized\\C130P91ThinF_IMG_201...  malaria\n",
       "1  ./cell_images\\Parasitized\\C188P149ThinF_IMG_20...  malaria\n",
       "2  ./cell_images\\Uninfected\\C173P134NThinF_IMG_20...  healthy\n",
       "3  ./cell_images\\Uninfected\\C78P39ThinF_IMG_20150...  healthy\n",
       "4  ./cell_images\\Uninfected\\C107P68ThinF_IMG_2015...  healthy"
      ]
     },
     "execution_count": 7,
     "metadata": {},
     "output_type": "execute_result"
    }
   ],
   "source": [
    "import numpy as np\n",
    "import pandas as pd\n",
    "\n",
    "np.random.seed(42)\n",
    "\n",
    "files_df = pd.DataFrame({\n",
    "    'filename': infected_files + healthy_files,\n",
    "    'label': ['malaria'] * len(infected_files) + ['healthy'] * len(healthy_files)\n",
    "}).sample(frac=1, random_state=42).reset_index(drop=True)\n",
    "\n",
    "files_df.head()"
   ]
  },
  {
   "cell_type": "code",
   "execution_count": 9,
   "metadata": {},
   "outputs": [
    {
     "name": "stdout",
     "output_type": "stream",
     "text": [
      "(17361,) (1929,) (8268,)\n",
      "Train: Counter({'healthy': 8734, 'malaria': 8627}) \n",
      "Val: Counter({'healthy': 970, 'malaria': 959}) \n",
      "Test: Counter({'malaria': 4193, 'healthy': 4075})\n"
     ]
    }
   ],
   "source": [
    "from sklearn.model_selection import train_test_split\n",
    "from collections import Counter\n",
    "\n",
    "train_files, test_files, train_labels, test_labels = train_test_split(files_df['filename'].values,\n",
    "                                                                      files_df['label'].values,\n",
    "                                                                      test_size=0.3, random_state=42)\n",
    "train_files, val_files, train_labels, val_labels = train_test_split(train_files,\n",
    "                                                                    train_labels,\n",
    "                                                                    test_size=0.1, random_state=42)\n",
    "\n",
    "print(train_files.shape, val_files.shape, test_files.shape)\n",
    "print('Train:', Counter(train_labels), '\\nVal:', Counter(val_labels), '\\nTest:', Counter(test_labels))"
   ]
  },
  {
   "cell_type": "code",
   "execution_count": null,
   "metadata": {},
   "outputs": [
    {
     "name": "stdout",
     "output_type": "stream",
     "text": [
      "Starting Img shape computation:\n",
      "ThreadPoolExecutor-1_0: working on img num: 0\n",
      "ThreadPoolExecutor-1_38: working on img num: 5000\n"
     ]
    }
   ],
   "source": [
    "import cv2\n",
    "from concurrent import futures\n",
    "import threading\n",
    "\n",
    "def get_img_shape_parallel(idx, img, total_imgs):\n",
    "    if idx % 5000 == 0 or idx == (total_imgs - 1):\n",
    "        print('{}: working on img num: {}'.format(threading.current_thread().name,\n",
    "                                                  idx))\n",
    "    return cv2.imread(img).shape\n",
    " \n",
    "ex = futures.ThreadPoolExecutor(max_workers=None)\n",
    "data_inp = [(idx, img, len(train_files)) for idx, img in enumerate(train_files)]\n",
    "print('Starting Img shape computation:')\n",
    "train_img_dims_map = ex.map(get_img_shape_parallel,\n",
    "                            [record[0] for record in data_inp],\n",
    "                            [record[1] for record in data_inp],\n",
    "                            [record[2] for record in data_inp])\n",
    "train_img_dims = list(train_img_dims_map)\n",
    "print('Min Dimensions:', np.min(train_img_dims, axis=0))\n",
    "print('Avg Dimensions:', np.mean(train_img_dims, axis=0))\n",
    "print('Median Dimensions:', np.median(train_img_dims, axis=0))\n",
    "print('Max Dimensions:', np.max(train_img_dims, axis=0))\n"
   ]
  },
  {
   "cell_type": "code",
   "execution_count": 7,
   "metadata": {},
   "outputs": [
    {
     "name": "stdout",
     "output_type": "stream",
     "text": [
      "Loading Train Images:\n",
      "ThreadPoolExecutor-1_0: working on img num: 0\n",
      "ThreadPoolExecutor-1_26: working on img num: 5000\n",
      "ThreadPoolExecutor-1_9: working on img num: 10000\n",
      "ThreadPoolExecutor-1_27: working on img num: 15000\n",
      "ThreadPoolExecutor-1_32: working on img num: 17360\n",
      "\n",
      "Loading Validation Images:\n",
      "ThreadPoolExecutor-1_3: working on img num: 0\n",
      "ThreadPoolExecutor-1_7: working on img num: 1928\n",
      "\n",
      "Loading Test Images:\n",
      "ThreadPoolExecutor-1_20: working on img num: 0\n",
      "ThreadPoolExecutor-1_24: working on img num: 5000\n",
      "ThreadPoolExecutor-1_6: working on img num: 8267\n"
     ]
    },
    {
     "data": {
      "text/plain": [
       "((17361, 125, 125, 3), (1929, 125, 125, 3), (8268, 125, 125, 3))"
      ]
     },
     "execution_count": 7,
     "metadata": {},
     "output_type": "execute_result"
    }
   ],
   "source": [
    "IMG_DIMS = (125, 125)\n",
    "\n",
    "def get_img_data_parallel(idx, img, total_imgs):\n",
    "    if idx % 5000 == 0 or idx == (total_imgs - 1):\n",
    "        print('{}: working on img num: {}'.format(threading.current_thread().name,\n",
    "                                                  idx))\n",
    "    img = cv2.imread(img)\n",
    "    img = cv2.resize(img, dsize=IMG_DIMS,\n",
    "                     interpolation=cv2.INTER_CUBIC)\n",
    "    img = np.array(img, dtype=np.float32)\n",
    "    return img\n",
    "\n",
    "ex = futures.ThreadPoolExecutor(max_workers=None)\n",
    "train_data_inp = [(idx, img, len(train_files)) for idx, img in enumerate(train_files)]\n",
    "val_data_inp = [(idx, img, len(val_files)) for idx, img in enumerate(val_files)]\n",
    "test_data_inp = [(idx, img, len(test_files)) for idx, img in enumerate(test_files)]\n",
    "\n",
    "print('Loading Train Images:')\n",
    "train_data_map = ex.map(get_img_data_parallel,\n",
    "                        [record[0] for record in train_data_inp],\n",
    "                        [record[1] for record in train_data_inp],\n",
    "                        [record[2] for record in train_data_inp])\n",
    "train_data = np.array(list(train_data_map))\n",
    "\n",
    "print('\\nLoading Validation Images:')\n",
    "val_data_map = ex.map(get_img_data_parallel,\n",
    "                        [record[0] for record in val_data_inp],\n",
    "                        [record[1] for record in val_data_inp],\n",
    "                        [record[2] for record in val_data_inp])\n",
    "val_data = np.array(list(val_data_map))\n",
    "\n",
    "print('\\nLoading Test Images:')\n",
    "test_data_map = ex.map(get_img_data_parallel,\n",
    "                        [record[0] for record in test_data_inp],\n",
    "                        [record[1] for record in test_data_inp],\n",
    "                        [record[2] for record in test_data_inp])\n",
    "test_data = np.array(list(test_data_map))\n",
    "\n",
    "train_data.shape, val_data.shape, test_data.shape  \n",
    "\n"
   ]
  },
  {
   "cell_type": "code",
   "execution_count": null,
   "metadata": {},
   "outputs": [],
   "source": [
    "import matplotlib.pyplot as plt\n",
    "%matplotlib inline\n",
    "\n",
    "plt.figure(1 , figsize = (8 , 8))\n",
    "n = 0\n",
    "for i in range(16):\n",
    "    n += 1\n",
    "    r = np.random.randint(0 , train_data.shape[0] , 1)\n",
    "    plt.subplot(4 , 4 , n)\n",
    "    plt.subplots_adjust(hspace = 0.5 , wspace = 0.5)\n",
    "    plt.imshow(train_data[r[0]]/255.)\n",
    "    plt.title('{}'.format(train_labels[r[0]]))\n",
    "    plt.xticks([]) , plt.yticks([])"
   ]
  },
  {
   "cell_type": "code",
   "execution_count": 9,
   "metadata": {},
   "outputs": [
    {
     "name": "stdout",
     "output_type": "stream",
     "text": [
      "['malaria' 'malaria' 'malaria' 'healthy' 'healthy' 'malaria'] [1 1 1 0 0 1]\n"
     ]
    }
   ],
   "source": [
    "BATCH_SIZE = 64\n",
    "NUM_CLASSES = 2\n",
    "EPOCHS = 25\n",
    "INPUT_SHAPE = (125, 125, 3)\n",
    "\n",
    "train_imgs_scaled = train_data / 255.\n",
    "val_imgs_scaled = val_data / 255.\n",
    "\n",
    "# encode text category labels\n",
    "from sklearn.preprocessing import LabelEncoder\n",
    "\n",
    "le = LabelEncoder()\n",
    "le.fit(train_labels)\n",
    "train_labels_enc = le.transform(train_labels)\n",
    "val_labels_enc = le.transform(val_labels)\n",
    "\n",
    "print(train_labels[:6], train_labels_enc[:6])"
   ]
  },
  {
   "cell_type": "code",
   "execution_count": 11,
   "metadata": {},
   "outputs": [
    {
     "data": {
      "text/plain": [
       "'1.13.1'"
      ]
     },
     "execution_count": 11,
     "metadata": {},
     "output_type": "execute_result"
    }
   ],
   "source": [
    "import tensorflow as tf\n",
    "\n",
    "# Load the TensorBoard notebook extension (optional)\n",
    "#%load_ext tensorboard.notebook\n",
    "\n",
    "tf.random.set_seed(42)\n",
    "tf.__version__"
   ]
  },
  {
   "cell_type": "code",
   "execution_count": 12,
   "metadata": {},
   "outputs": [
    {
     "name": "stdout",
     "output_type": "stream",
     "text": [
      "WARNING:tensorflow:From C:\\Users\\adity\\Anaconda3\\lib\\site-packages\\tensorflow\\python\\ops\\resource_variable_ops.py:435: colocate_with (from tensorflow.python.framework.ops) is deprecated and will be removed in a future version.\n",
      "Instructions for updating:\n",
      "Colocations handled automatically by placer.\n",
      "WARNING:tensorflow:From C:\\Users\\adity\\Anaconda3\\lib\\site-packages\\tensorflow\\python\\keras\\layers\\core.py:143: calling dropout (from tensorflow.python.ops.nn_ops) with keep_prob is deprecated and will be removed in a future version.\n",
      "Instructions for updating:\n",
      "Please use `rate` instead of `keep_prob`. Rate should be set to `rate = 1 - keep_prob`.\n",
      "_________________________________________________________________\n",
      "Layer (type)                 Output Shape              Param #   \n",
      "=================================================================\n",
      "input_1 (InputLayer)         (None, 125, 125, 3)       0         \n",
      "_________________________________________________________________\n",
      "conv2d (Conv2D)              (None, 125, 125, 32)      896       \n",
      "_________________________________________________________________\n",
      "max_pooling2d (MaxPooling2D) (None, 62, 62, 32)        0         \n",
      "_________________________________________________________________\n",
      "conv2d_1 (Conv2D)            (None, 62, 62, 64)        18496     \n",
      "_________________________________________________________________\n",
      "max_pooling2d_1 (MaxPooling2 (None, 31, 31, 64)        0         \n",
      "_________________________________________________________________\n",
      "conv2d_2 (Conv2D)            (None, 31, 31, 128)       73856     \n",
      "_________________________________________________________________\n",
      "max_pooling2d_2 (MaxPooling2 (None, 15, 15, 128)       0         \n",
      "_________________________________________________________________\n",
      "flatten (Flatten)            (None, 28800)             0         \n",
      "_________________________________________________________________\n",
      "dense (Dense)                (None, 512)               14746112  \n",
      "_________________________________________________________________\n",
      "dropout (Dropout)            (None, 512)               0         \n",
      "_________________________________________________________________\n",
      "dense_1 (Dense)              (None, 512)               262656    \n",
      "_________________________________________________________________\n",
      "dropout_1 (Dropout)          (None, 512)               0         \n",
      "_________________________________________________________________\n",
      "dense_2 (Dense)              (None, 1)                 513       \n",
      "=================================================================\n",
      "Total params: 15,102,529\n",
      "Trainable params: 15,102,529\n",
      "Non-trainable params: 0\n",
      "_________________________________________________________________\n"
     ]
    }
   ],
   "source": [
    "inp = tf.keras.layers.Input(shape=INPUT_SHAPE)\n",
    "\n",
    "conv1 = tf.keras.layers.Conv2D(32, kernel_size=(3, 3),\n",
    "                               activation='relu', padding='same')(inp)\n",
    "pool1 = tf.keras.layers.MaxPooling2D(pool_size=(2, 2))(conv1)\n",
    "conv2 = tf.keras.layers.Conv2D(64, kernel_size=(3, 3),\n",
    "                               activation='relu', padding='same')(pool1)\n",
    "pool2 = tf.keras.layers.MaxPooling2D(pool_size=(2, 2))(conv2)\n",
    "conv3 = tf.keras.layers.Conv2D(128, kernel_size=(3, 3),\n",
    "                               activation='relu', padding='same')(pool2)\n",
    "pool3 = tf.keras.layers.MaxPooling2D(pool_size=(2, 2))(conv3)\n",
    "\n",
    "flat = tf.keras.layers.Flatten()(pool3)\n",
    "\n",
    "hidden1 = tf.keras.layers.Dense(512, activation='relu')(flat)\n",
    "drop1 = tf.keras.layers.Dropout(rate=0.3)(hidden1)\n",
    "hidden2 = tf.keras.layers.Dense(512, activation='relu')(drop1)\n",
    "drop2 = tf.keras.layers.Dropout(rate=0.3)(hidden2)\n",
    "\n",
    "out = tf.keras.layers.Dense(1, activation='sigmoid')(drop2)\n",
    "\n",
    "model = tf.keras.Model(inputs=inp, outputs=out)\n",
    "model.compile(optimizer='adam',\n",
    "                loss='binary_crossentropy',\n",
    "                metrics=['accuracy'])\n",
    "model.summary()"
   ]
  },
  {
   "cell_type": "code",
   "execution_count": 16,
   "metadata": {},
   "outputs": [
    {
     "name": "stdout",
     "output_type": "stream",
     "text": [
      "Train on 17361 samples, validate on 1929 samples\n",
      "Epoch 1/25\n",
      "17361/17361 [==============================] - 312s 18ms/sample - loss: 0.3884 - acc: 0.8205 - val_loss: 0.1847 - val_acc: 0.9409\n",
      "Epoch 2/25\n",
      "17361/17361 [==============================] - 297s 17ms/sample - loss: 0.1619 - acc: 0.9488 - val_loss: 0.1650 - val_acc: 0.9440\n",
      "Epoch 3/25\n",
      "17361/17361 [==============================] - 293s 17ms/sample - loss: 0.1365 - acc: 0.9548 - val_loss: 0.1271 - val_acc: 0.9601\n",
      "Epoch 4/25\n",
      "17361/17361 [==============================] - 299s 17ms/sample - loss: 0.1161 - acc: 0.9612 - val_loss: 0.1370 - val_acc: 0.9601\n",
      "Epoch 5/25\n",
      "17361/17361 [==============================] - 317s 18ms/sample - loss: 0.0983 - acc: 0.9660 - val_loss: 0.1313 - val_acc: 0.9590\n",
      "Epoch 6/25\n",
      "17361/17361 [==============================] - 300s 17ms/sample - loss: 0.0589 - acc: 0.9803 - val_loss: 0.1602 - val_acc: 0.9580\n",
      "Epoch 7/25\n",
      "17361/17361 [==============================] - 311s 18ms/sample - loss: 0.0381 - acc: 0.9871 - val_loss: 0.1682 - val_acc: 0.9565\n",
      "Epoch 8/25\n",
      "17361/17361 [==============================] - 293s 17ms/sample - loss: 0.0186 - acc: 0.9946 - val_loss: 0.2043 - val_acc: 0.9585\n",
      "Epoch 9/25\n",
      "17361/17361 [==============================] - 305s 18ms/sample - loss: 0.0110 - acc: 0.9970 - val_loss: 0.2305 - val_acc: 0.9554\n",
      "Epoch 10/25\n",
      "17361/17361 [==============================] - 304s 18ms/sample - loss: 0.0065 - acc: 0.9984 - val_loss: 0.2497 - val_acc: 0.9632\n",
      "Epoch 11/25\n",
      "17361/17361 [==============================] - 289s 17ms/sample - loss: 0.0036 - acc: 0.9994 - val_loss: 0.2561 - val_acc: 0.9606\n",
      "Epoch 12/25\n",
      "17361/17361 [==============================] - 293s 17ms/sample - loss: 0.0034 - acc: 0.9992 - val_loss: 0.2723 - val_acc: 0.9590\n",
      "Epoch 13/25\n",
      "17361/17361 [==============================] - 287s 17ms/sample - loss: 0.0023 - acc: 0.9995 - val_loss: 0.2931 - val_acc: 0.9596\n",
      "Epoch 14/25\n",
      "17361/17361 [==============================] - 282s 16ms/sample - loss: 0.0024 - acc: 0.9996 - val_loss: 0.2874 - val_acc: 0.9601\n",
      "Epoch 15/25\n",
      "17361/17361 [==============================] - 278s 16ms/sample - loss: 0.0019 - acc: 0.9996 - val_loss: 0.2887 - val_acc: 0.9596\n",
      "Epoch 16/25\n",
      "17361/17361 [==============================] - 774s 45ms/sample - loss: 0.0017 - acc: 0.9998 - val_loss: 0.2896 - val_acc: 0.9590\n",
      "Epoch 17/25\n",
      "17361/17361 [==============================] - 277s 16ms/sample - loss: 0.0018 - acc: 0.9997 - val_loss: 0.2906 - val_acc: 0.9601\n",
      "Epoch 18/25\n",
      "17361/17361 [==============================] - 279s 16ms/sample - loss: 0.0019 - acc: 0.9996 - val_loss: 0.2895 - val_acc: 0.9601\n",
      "Epoch 19/25\n",
      "17361/17361 [==============================] - 283s 16ms/sample - loss: 0.0014 - acc: 0.9998 - val_loss: 0.2917 - val_acc: 0.9601\n",
      "Epoch 20/25\n",
      "17361/17361 [==============================] - 282s 16ms/sample - loss: 0.0019 - acc: 0.9995 - val_loss: 0.2922 - val_acc: 0.9601\n",
      "Epoch 21/25\n",
      "17361/17361 [==============================] - 287s 17ms/sample - loss: 0.0013 - acc: 0.9999 - val_loss: 0.2935 - val_acc: 0.9590\n",
      "Epoch 22/25\n",
      "17361/17361 [==============================] - 292s 17ms/sample - loss: 0.0013 - acc: 0.9998 - val_loss: 0.2930 - val_acc: 0.9596\n",
      "Epoch 23/25\n",
      "17361/17361 [==============================] - 289s 17ms/sample - loss: 0.0013 - acc: 0.9999 - val_loss: 0.2927 - val_acc: 0.9596\n",
      "Epoch 24/25\n",
      "17361/17361 [==============================] - 291s 17ms/sample - loss: 0.0014 - acc: 0.9998 - val_loss: 0.2934 - val_acc: 0.9596\n",
      "Epoch 25/25\n",
      "17361/17361 [==============================] - 317s 18ms/sample - loss: 0.0015 - acc: 0.9998 - val_loss: 0.2938 - val_acc: 0.9596\n"
     ]
    }
   ],
   "source": [
    "import datetime\n",
    "\n",
    "logdir = os.path.join('C:/Users/adity/malaria',\n",
    "                      datetime.datetime.now().strftime(\"%Y%m%d-%H%M%S\"))\n",
    "tensorboard_callback = tf.keras.callbacks.TensorBoard(logdir, histogram_freq=1)\n",
    "reduce_lr = tf.keras.callbacks.ReduceLROnPlateau(monitor='val_loss', factor=0.5,\n",
    "                              patience=2, min_lr=0.000001)\n",
    "callbacks = [reduce_lr, tensorboard_callback]\n",
    "\n",
    "history = model.fit(x=train_imgs_scaled, y=train_labels_enc,\n",
    "                    batch_size=BATCH_SIZE,\n",
    "                    epochs=EPOCHS,\n",
    "                    validation_data=(val_imgs_scaled, val_labels_enc),\n",
    "                    callbacks=callbacks,\n",
    "                    verbose=1)"
   ]
  },
  {
   "cell_type": "code",
   "execution_count": 23,
   "metadata": {},
   "outputs": [
    {
     "data": {
      "image/png": "[encoded data removed]",
      "text/plain": [
       "<Figure size 864x288 with 2 Axes>"
      ]
     },
     "metadata": {
      "needs_background": "light"
     },
     "output_type": "display_data"
    }
   ],
   "source": [
    "f, (ax1, ax2) = plt.subplots(1, 2, figsize=(12, 4))\n",
    "t = f.suptitle('Basic CNN Performance', fontsize=12)\n",
    "f.subplots_adjust(top=0.85, wspace=0.3)\n",
    "\n",
    "max_epoch = len(history.history['acc'])+1\n",
    "epoch_list = list(range(1,max_epoch))\n",
    "ax1.plot(epoch_list, history.history['acc'], label='Train Accuracy')\n",
    "ax1.plot(epoch_list, history.history['val_acc'], label='Validation Accuracy')\n",
    "ax1.set_xticks(np.arange(1, max_epoch, 5))\n",
    "ax1.set_ylabel('Accuracy Value')\n",
    "ax1.set_xlabel('Epoch')\n",
    "ax1.set_title('Accuracy')\n",
    "l1 = ax1.legend(loc=\"best\")\n",
    "\n",
    "ax2.plot(epoch_list, history.history['loss'], label='Train Loss')\n",
    "ax2.plot(epoch_list, history.history['val_loss'], label='Validation Loss')\n",
    "ax2.set_xticks(np.arange(1, max_epoch, 5))\n",
    "ax2.set_ylabel('Loss Value')\n",
    "ax2.set_xlabel('Epoch')\n",
    "ax2.set_title('Loss')\n",
    "l2 = ax2.legend(loc=\"best\")"
   ]
  }
 ],
 "metadata": {
  "kernelspec": {
   "display_name": "Python 3",
   "language": "python",
   "name": "python3"
  },
  "language_info": {
   "codemirror_mode": {
    "name": "ipython",
    "version": 3
   },
   "file_extension": ".py",
   "mimetype": "text/x-python",
   "name": "python",
   "nbconvert_exporter": "python",
   "pygments_lexer": "ipython3",
   "version": "3.7.1"
  }
 },
 "nbformat": 4,
 "nbformat_minor": 2
}
